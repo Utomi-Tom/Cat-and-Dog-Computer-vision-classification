{
  "nbformat": 4,
  "nbformat_minor": 0,
  "metadata": {
    "colab": {
      "provenance": [],
      "authorship_tag": "ABX9TyOFkSNEn/OTnz9Zf8X/qjTM",
      "include_colab_link": true
    },
    "kernelspec": {
      "name": "python3",
      "display_name": "Python 3"
    },
    "language_info": {
      "name": "python"
    }
  },
  "cells": [
    {
      "cell_type": "markdown",
      "metadata": {
        "id": "view-in-github",
        "colab_type": "text"
      },
      "source": [
        "<a href=\"https://colab.research.google.com/github/Utomi-Tom/Cat-and-Dog-Computer-vision-classification/blob/main/Cat_and_Dog_Classification.ipynb\" target=\"_parent\"><img src=\"https://colab.research.google.com/assets/colab-badge.svg\" alt=\"Open In Colab\"/></a>"
      ]
    },
    {
      "cell_type": "markdown",
      "source": [
        "# Project Introduciton\n",
        "\n",
        "\n",
        "\n",
        "*Problem Statement*\n",
        "\n",
        "\n",
        "\n",
        "\n",
        "\n",
        "**Aim of modelling application**\n"
      ],
      "metadata": {
        "id": "DyJsHIvmGD8o"
      }
    },
    {
      "cell_type": "markdown",
      "source": [
        "# Importation of Tools"
      ],
      "metadata": {
        "id": "WvzsoLYVGdUw"
      }
    },
    {
      "cell_type": "code",
      "source": [],
      "metadata": {
        "id": "XFdCDRFoGgJ-"
      },
      "execution_count": null,
      "outputs": []
    },
    {
      "cell_type": "markdown",
      "source": [
        "# Importation of Dataset"
      ],
      "metadata": {
        "id": "n_UvRaegGg1y"
      }
    },
    {
      "cell_type": "code",
      "source": [],
      "metadata": {
        "id": "ymg_9y_9Gk5h"
      },
      "execution_count": null,
      "outputs": []
    },
    {
      "cell_type": "markdown",
      "source": [
        "# Preprocessing and Visualization "
      ],
      "metadata": {
        "id": "pIpbv6olGmFd"
      }
    },
    {
      "cell_type": "code",
      "source": [],
      "metadata": {
        "id": "M2_rl-SbGpWJ"
      },
      "execution_count": null,
      "outputs": []
    },
    {
      "cell_type": "markdown",
      "source": [
        "# Training model"
      ],
      "metadata": {
        "id": "g9pn6MD4GqD8"
      }
    },
    {
      "cell_type": "code",
      "source": [],
      "metadata": {
        "id": "4WMunyDpG2EX"
      },
      "execution_count": null,
      "outputs": []
    },
    {
      "cell_type": "code",
      "source": [],
      "metadata": {
        "id": "QERw00jcG44_"
      },
      "execution_count": null,
      "outputs": []
    },
    {
      "cell_type": "markdown",
      "source": [],
      "metadata": {
        "id": "O8bDPIOjG5SJ"
      }
    }
  ]
}