{
  "nbformat": 4,
  "nbformat_minor": 0,
  "metadata": {
    "colab": {
      "provenance": [],
      "authorship_tag": "ABX9TyNeFg03RwlkENwQbywP3rma",
      "include_colab_link": true
    },
    "kernelspec": {
      "name": "python3",
      "display_name": "Python 3"
    },
    "language_info": {
      "name": "python"
    },
    "accelerator": "GPU",
    "gpuClass": "standard"
  },
  "cells": [
    {
      "cell_type": "markdown",
      "metadata": {
        "id": "view-in-github",
        "colab_type": "text"
      },
      "source": [
        "<a href=\"https://colab.research.google.com/github/Utomi-Tom/Cat-and-Dog-Computer-vision-classification/blob/main/Cat_and_Dog_Classification.ipynb\" target=\"_parent\"><img src=\"https://colab.research.google.com/assets/colab-badge.svg\" alt=\"Open In Colab\"/></a>"
      ]
    },
    {
      "cell_type": "markdown",
      "source": [
        "# Project Introduciton\n",
        "\n",
        "\n",
        "\n",
        "*Problem Statement*\n",
        "\n",
        "\n",
        "\n",
        "\n",
        "\n",
        "**Aim of modelling application**\n"
      ],
      "metadata": {
        "id": "DyJsHIvmGD8o"
      }
    },
    {
      "cell_type": "markdown",
      "source": [
        "# Importation of Tools"
      ],
      "metadata": {
        "id": "WvzsoLYVGdUw"
      }
    },
    {
      "cell_type": "code",
      "source": [
        "import tensorflow as tf\n",
        "from tensorflow import keras\n",
        "\n",
        "\n",
        "import matplotlib.pyplot as plt\n"
      ],
      "metadata": {
        "id": "XFdCDRFoGgJ-"
      },
      "execution_count": 1,
      "outputs": []
    },
    {
      "cell_type": "markdown",
      "source": [
        "# Importation of Dataset"
      ],
      "metadata": {
        "id": "n_UvRaegGg1y"
      }
    },
    {
      "cell_type": "code",
      "source": [
        "from google.colab import drive\n",
        "drive.mount(\"/content/drive\")"
      ],
      "metadata": {
        "id": "ymg_9y_9Gk5h",
        "colab": {
          "base_uri": "https://localhost:8080/"
        },
        "outputId": "443d0248-9c97-4ee9-a2ac-67076d25ae63"
      },
      "execution_count": 2,
      "outputs": [
        {
          "output_type": "stream",
          "name": "stdout",
          "text": [
            "Mounted at /content/drive\n"
          ]
        }
      ]
    },
    {
      "cell_type": "code",
      "source": [
        "loc = \"/content/drive/MyDrive/dog vs cat/dataset/training_set\""
      ],
      "metadata": {
        "id": "8dqXx2eA1-0l"
      },
      "execution_count": 8,
      "outputs": []
    },
    {
      "cell_type": "code",
      "source": [
        "data=tf.keras.utils.image_dataset_from_directory(loc, label_mode=\"categorical\", batch_size=32, image_size=(200, 200),\n",
        "                                                    )"
      ],
      "metadata": {
        "id": "iIsJz6HoB-pU",
        "outputId": "10da4229-23e3-4141-bb3a-c8ae28e608af",
        "colab": {
          "base_uri": "https://localhost:8080/"
        }
      },
      "execution_count": 9,
      "outputs": [
        {
          "output_type": "stream",
          "name": "stdout",
          "text": [
            "Found 8000 files belonging to 2 classes.\n"
          ]
        }
      ]
    },
    {
      "cell_type": "code",
      "source": [
        "# Let us view the raw data values of ten 4D image tensors()\n",
        "data.next()"
      ],
      "metadata": {
        "id": "V3QGGXT22q3B",
        "outputId": "ba4523e0-8bf2-43e5-8ec9-d3361aab8012",
        "colab": {
          "base_uri": "https://localhost:8080/"
        }
      },
      "execution_count": 12,
      "outputs": [
        {
          "output_type": "execute_result",
          "data": {
            "text/plain": [
              "(array([[[[137.84798 , 135.84798 , 148.84798 ],\n",
              "          [136.4661  , 133.9811  , 147.22359 ],\n",
              "          [142.46016 , 136.98515 , 150.98515 ],\n",
              "          ...,\n",
              "          [150.85236 , 141.85236 , 158.85236 ],\n",
              "          [149.24252 , 140.24252 , 157.24252 ],\n",
              "          [149.25247 , 137.25247 , 159.25247 ]],\n",
              " \n",
              "         [[139.3403  , 137.3403  , 150.3403  ],\n",
              "          [139.87906 , 137.39406 , 150.63657 ],\n",
              "          [146.96797 , 141.49297 , 155.49297 ],\n",
              "          ...,\n",
              "          [152.05002 , 143.05002 , 160.05002 ],\n",
              "          [150.47923 , 141.47923 , 158.47923 ],\n",
              "          [150.2336  , 138.2336  , 160.2336  ]],\n",
              " \n",
              "         [[139.03969 , 137.03969 , 150.03969 ],\n",
              "          [141.1575  , 138.6725  , 151.915   ],\n",
              "          [146.2875  , 140.8125  , 154.8125  ],\n",
              "          ...,\n",
              "          [153.92502 , 144.92502 , 161.92502 ],\n",
              "          [152.1875  , 143.1875  , 160.1875  ],\n",
              "          [152.49506 , 139.49506 , 159.49506 ]],\n",
              " \n",
              "         ...,\n",
              " \n",
              "         [[171.505   , 183.505   , 173.505   ],\n",
              "          [171.54    , 183.54    , 173.54    ],\n",
              "          [174.075   , 186.075   , 176.075   ],\n",
              "          ...,\n",
              "          [172.02425 , 179.02425 , 172.02425 ],\n",
              "          [173.47508 , 179.7176  , 174.99004 ],\n",
              "          [181.88242 , 185.88242 , 187.25742 ]],\n",
              " \n",
              "         [[168.8775  , 180.8775  , 170.8775  ],\n",
              "          [171.7275  , 183.7275  , 173.7275  ],\n",
              "          [173.75546 , 185.75546 , 175.75546 ],\n",
              "          ...,\n",
              "          [171.02345 , 178.02345 , 171.02345 ],\n",
              "          [168.20847 , 174.97176 , 168.68188 ],\n",
              "          [177.95638 , 182.64388 , 179.58138 ]],\n",
              " \n",
              "         [[164.3125  , 176.3125  , 166.3125  ],\n",
              "          [170.165   , 182.165   , 172.165   ],\n",
              "          [171.54765 , 183.54765 , 173.54765 ],\n",
              "          ...,\n",
              "          [176.99759 , 183.99759 , 176.99759 ],\n",
              "          [174.18044 , 181.18044 , 174.18044 ],\n",
              "          [172.29549 , 177.71597 , 169.56497 ]]],\n",
              " \n",
              " \n",
              "        [[[ 47.8395  ,  46.8395  ,  44.8395  ],\n",
              "          [ 55.5635  ,  54.5635  ,  52.5635  ],\n",
              "          [ 46.074997,  45.074997,  43.074997],\n",
              "          ...,\n",
              "          [ 32.855152,  41.44264 ,  23.268963],\n",
              "          [ 51.54624 ,  58.43873 ,  51.062305],\n",
              "          [ 60.23269 ,  65.600426,  66.84275 ]],\n",
              " \n",
              "         [[ 34.96425 ,  33.064247,  31.36425 ],\n",
              "          [ 46.57325 ,  44.67325 ,  42.97325 ],\n",
              "          [ 39.62125 ,  37.72125 ,  36.021248],\n",
              "          ...,\n",
              "          [ 33.97618 ,  43.46367 ,  22.597498],\n",
              "          [ 27.6978  ,  34.890285,  25.884848],\n",
              "          [ 47.71985 ,  53.809093,  51.929905]],\n",
              " \n",
              "         [[ 39.7725  ,  35.7725  ,  34.7725  ],\n",
              "          [ 53.747498,  49.747498,  48.747498],\n",
              "          [ 49.05    ,  45.05    ,  44.05    ],\n",
              "          ...,\n",
              "          [ 51.349854,  60.83734 ,  37.912415],\n",
              "          [ 28.123703,  36.069946,  22.607513],\n",
              "          [ 42.21161 ,  49.009094,  43.17041 ]],\n",
              " \n",
              "         ...,\n",
              " \n",
              "         [[ 98.40508 ,  92.70253 ,  66.25636 ],\n",
              "          [105.03242 ,  99.13986 ,  72.9787  ],\n",
              "          [ 97.431145,  92.431114,  64.93116 ],\n",
              "          ...,\n",
              "          [ 65.89394 ,  77.89394 ,  29.893946],\n",
              "          [ 76.17759 ,  88.17759 ,  40.17759 ],\n",
              "          [ 87.55039 ,  97.44285 ,  50.145363]],\n",
              " \n",
              "         [[102.40677 ,  93.109985,  71.31753 ],\n",
              "          [105.554054,  95.74427 ,  74.521805],\n",
              "          [103.197655,  95.79763 ,  71.89767 ],\n",
              "          ...,\n",
              "          [ 77.16412 ,  90.56415 ,  41.864136],\n",
              "          [ 84.60991 ,  96.60991 ,  47.20989 ],\n",
              "          [ 87.17747 ,  98.54523 ,  49.35595 ]],\n",
              " \n",
              "         [[112.356346, 101.44559 ,  81.356346],\n",
              "          [121.131645, 110.163895,  90.131645],\n",
              "          [125.55893 , 116.17517 ,  94.55893 ],\n",
              "          ...,\n",
              "          [ 97.40286 , 111.40286 ,  62.402863],\n",
              "          [ 89.72619 , 101.72619 ,  51.72619 ],\n",
              "          [ 77.448395,  89.448395,  39.44839 ]]],\n",
              " \n",
              " \n",
              "        [[[ 62.69    ,  73.69    ,  69.69    ],\n",
              "          [ 62.4375  ,  73.4375  ,  69.4375  ],\n",
              "          [ 64.58984 ,  75.58984 ,  71.58984 ],\n",
              "          ...,\n",
              "          [ 88.13739 ,  88.13739 ,  88.13739 ],\n",
              "          [ 95.      ,  95.      ,  95.      ],\n",
              "          [ 91.88954 ,  91.88954 ,  91.88954 ]],\n",
              " \n",
              "         [[ 65.3914  ,  76.3914  ,  72.3914  ],\n",
              "          [ 64.79172 ,  75.79172 ,  71.79172 ],\n",
              "          [ 67.05    ,  78.05    ,  74.05    ],\n",
              "          ...,\n",
              "          [ 87.57489 ,  87.57489 ,  87.57489 ],\n",
              "          [ 94.      ,  94.      ,  94.      ],\n",
              "          [ 90.43503 ,  90.43503 ,  90.43503 ]],\n",
              " \n",
              "         [[ 68.6275  ,  79.6275  ,  75.6275  ],\n",
              "          [ 68.375   ,  79.375   ,  75.375   ],\n",
              "          [ 70.1125  ,  81.1125  ,  77.1125  ],\n",
              "          ...,\n",
              "          [ 87.31241 ,  87.31241 ,  87.31241 ],\n",
              "          [ 92.85797 ,  92.85797 ,  92.85797 ],\n",
              "          [ 89.93503 ,  89.93503 ,  89.93503 ]],\n",
              " \n",
              "         ...,\n",
              " \n",
              "         [[ 62.232346,  77.232346,  56.232346],\n",
              "          [ 59.920467,  78.92047 ,  56.920467],\n",
              "          [ 63.61484 ,  85.61484 ,  62.61484 ],\n",
              "          ...,\n",
              "          [182.47627 , 212.47627 , 122.47627 ],\n",
              "          [199.67255 , 229.67255 , 141.67255 ],\n",
              "          [161.7268  , 191.7268  , 103.72681 ]],\n",
              " \n",
              "         [[ 75.75891 ,  90.75891 ,  69.75891 ],\n",
              "          [ 75.27078 ,  94.27078 ,  72.27078 ],\n",
              "          [ 73.71797 ,  95.71797 ,  72.71797 ],\n",
              "          ...,\n",
              "          [197.1997  , 227.1997  , 137.1997  ],\n",
              "          [211.5951  , 241.5951  , 153.5951  ],\n",
              "          [157.6931  , 187.6931  ,  99.6931  ]],\n",
              " \n",
              "         [[ 87.57453 , 102.57453 ,  81.57453 ],\n",
              "          [ 83.765   , 102.765   ,  80.765   ],\n",
              "          [ 81.40234 , 103.40234 ,  80.40234 ],\n",
              "          ...,\n",
              "          [185.41458 , 215.41458 , 125.41458 ],\n",
              "          [197.83762 , 227.83762 , 139.83762 ],\n",
              "          [164.15132 , 194.15132 , 106.15133 ]]],\n",
              " \n",
              " \n",
              "        ...,\n",
              " \n",
              " \n",
              "        [[[116.375   , 111.18125 , 116.69688 ],\n",
              "          [123.625   , 117.83437 , 123.50313 ],\n",
              "          [107.75    ,  98.30625 , 105.8625  ],\n",
              "          ...,\n",
              "          [135.28125 , 137.96562 ,  93.7     ],\n",
              "          [137.24374 , 126.21875 ,  91.35625 ],\n",
              "          [136.79688 , 117.796875,  87.796875]],\n",
              " \n",
              "         [[104.6     ,  97.32188 ,  99.7875  ],\n",
              "          [ 99.87812 ,  90.71562 ,  93.80937 ],\n",
              "          [100.40937 ,  89.24687 ,  94.17812 ],\n",
              "          ...,\n",
              "          [130.9625  , 124.74375 ,  83.69063 ],\n",
              "          [151.44687 , 136.78438 , 103.075005],\n",
              "          [139.9     , 120.9     ,  88.9     ]],\n",
              " \n",
              "         [[ 97.140625,  85.265625,  85.328125],\n",
              "          [108.5     ,  96.625   ,  96.6875  ],\n",
              "          [117.984375, 104.109375, 104.234375],\n",
              "          ...,\n",
              "          [149.75    , 131.625   ,  94.75    ],\n",
              "          [141.45312 , 122.671875,  89.640625],\n",
              "          [158.48438 , 139.48438 , 106.546875]],\n",
              " \n",
              "         ...,\n",
              " \n",
              "         [[ 87.765625,  95.703125,  48.421875],\n",
              "          [102.78125 , 108.546875,  71.984375],\n",
              "          [ 57.5     ,  63.078125,  36.484375],\n",
              "          ...,\n",
              "          [ 60.921875,  56.4375  ,  47.484375],\n",
              "          [ 57.53125 ,  54.453125,  46.765625],\n",
              "          [ 42.125   ,  39.3125  ,  32.125   ]],\n",
              " \n",
              "         [[106.084435, 113.92193 ,  74.528145],\n",
              "          [115.412384, 122.878   ,  82.2374  ],\n",
              "          [ 91.799805,  98.13106 ,  60.309227],\n",
              "          ...,\n",
              "          [ 50.99376 ,  58.031204,  39.12188 ],\n",
              "          [ 54.650024,  58.546867,  42.393784],\n",
              "          [ 45.25624 ,  48.606216,  32.74376 ]],\n",
              " \n",
              "         [[ 97.34068 , 104.34068 ,  70.59068 ],\n",
              "          [110.26883 , 119.01883 ,  75.01883 ],\n",
              "          [ 90.89693 ,  98.14693 ,  53.396927],\n",
              "          ...,\n",
              "          [ 48.76561 ,  62.26561 ,  37.26561 ],\n",
              "          [ 60.56244 ,  69.56244 ,  48.31244 ],\n",
              "          [ 54.71556 ,  62.71556 ,  41.71556 ]]],\n",
              " \n",
              " \n",
              "        [[[ 99.565   ,  71.565   ,  96.565   ],\n",
              "          [103.565   ,  71.565   ,  94.565   ],\n",
              "          [ 92.315   ,  68.315   ,  84.565   ],\n",
              "          ...,\n",
              "          [ 26.25    ,  19.      ,  16.75    ],\n",
              "          [ 24.07625 ,  20.07625 ,  17.07625 ],\n",
              "          [ 24.685   ,  23.685   ,  19.685   ]],\n",
              " \n",
              "         [[ 99.36    ,  71.36    ,  96.36    ],\n",
              "          [103.055   ,  71.055   ,  94.055   ],\n",
              "          [ 92.2625  ,  68.2625  ,  84.5125  ],\n",
              "          ...,\n",
              "          [ 26.72875 ,  19.47875 ,  17.22875 ],\n",
              "          [ 24.75    ,  20.75    ,  17.75    ],\n",
              "          [ 26.02125 ,  25.02125 ,  21.02125 ]],\n",
              " \n",
              "         [[103.80625 ,  75.80625 , 100.80625 ],\n",
              "          [106.7625  ,  74.7625  ,  97.7625  ],\n",
              "          [ 97.80625 ,  73.80625 ,  90.05625 ],\n",
              "          ...,\n",
              "          [ 27.63125 ,  20.38125 ,  18.13125 ],\n",
              "          [ 24.38125 ,  20.38125 ,  17.38125 ],\n",
              "          [ 25.425   ,  24.425   ,  20.425   ]],\n",
              " \n",
              "         ...,\n",
              " \n",
              "         [[ 67.54375 ,  59.543747,  36.543747],\n",
              "          [ 67.5     ,  59.5     ,  36.5     ],\n",
              "          [ 68.25    ,  60.25    ,  37.25    ],\n",
              "          ...,\n",
              "          [ 55.51248 ,  33.30623 ,  24.162506],\n",
              "          [ 55.518784,  33.662506,  24.781265],\n",
              "          [ 55.30005 ,  32.825012,  24.650024]],\n",
              " \n",
              "         [[ 66.57625 ,  58.57625 ,  35.57625 ],\n",
              "          [ 67.5     ,  59.5     ,  36.5     ],\n",
              "          [ 69.021255,  61.021255,  38.021255],\n",
              "          ...,\n",
              "          [ 53.033737,  30.783737,  22.033737],\n",
              "          [ 56.304993,  34.054993,  25.304993],\n",
              "          [ 58.      ,  35.      ,  27.      ]],\n",
              " \n",
              "         [[ 65.60875 ,  57.60875 ,  34.60875 ],\n",
              "          [ 67.      ,  59.      ,  36.      ],\n",
              "          [ 69.815   ,  61.815002,  38.815002],\n",
              "          ...,\n",
              "          [ 52.39125 ,  30.14125 ,  21.39125 ],\n",
              "          [ 53.793747,  31.543747,  22.793747],\n",
              "          [ 55.011246,  32.011246,  24.011246]]],\n",
              " \n",
              " \n",
              "        [[[136.03125 , 156.03125 , 154.03125 ],\n",
              "          [139.305   , 159.305   , 157.305   ],\n",
              "          [145.17938 , 165.17938 , 163.17938 ],\n",
              "          ...,\n",
              "          [185.75125 , 213.09563 , 211.6475  ],\n",
              "          [190.49687 , 211.79562 , 212.39626 ],\n",
              "          [196.0725  , 214.37125 , 216.22188 ]],\n",
              " \n",
              "         [[143.6325  , 163.6325  , 161.6325  ],\n",
              "          [140.53313 , 160.53313 , 158.53313 ],\n",
              "          [138.83937 , 158.83937 , 156.83937 ],\n",
              "          ...,\n",
              "          [186.54688 , 216.495   , 214.495   ],\n",
              "          [186.01875 , 210.80188 , 210.4575  ],\n",
              "          [190.26875 , 211.7075  , 212.50937 ]],\n",
              " \n",
              "         [[142.2375  , 162.2375  , 160.2375  ],\n",
              "          [143.98438 , 163.98438 , 161.98438 ],\n",
              "          [148.225   , 168.225   , 166.225   ],\n",
              "          ...,\n",
              "          [146.47813 , 174.76251 , 170.99689 ],\n",
              "          [186.57812 , 212.58751 , 211.09062 ],\n",
              "          [204.8375  , 230.81874 , 231.82812 ]],\n",
              " \n",
              "         ...,\n",
              " \n",
              "         [[210.      , 226.      , 223.      ],\n",
              "          [212.25    , 228.25    , 225.25    ],\n",
              "          [214.73752 , 230.73752 , 227.73752 ],\n",
              "          ...,\n",
              "          [179.24689 , 178.24689 , 160.24689 ],\n",
              "          [174.26248 , 173.26248 , 155.26248 ],\n",
              "          [172.99689 , 171.99689 , 153.99689 ]],\n",
              " \n",
              "         [[210.      , 226.      , 223.      ],\n",
              "          [211.19812 , 227.19812 , 224.19812 ],\n",
              "          [212.79251 , 228.79251 , 225.79251 ],\n",
              "          ...,\n",
              "          [178.5     , 177.5     , 159.5     ],\n",
              "          [179.81123 , 178.81123 , 160.81123 ],\n",
              "          [178.37247 , 177.37247 , 159.37247 ]],\n",
              " \n",
              "         [[211.      , 227.      , 224.      ],\n",
              "          [210.89938 , 226.89938 , 223.89938 ],\n",
              "          [210.5975  , 226.5975  , 223.5975  ],\n",
              "          ...,\n",
              "          [178.55188 , 177.55188 , 159.55188 ],\n",
              "          [176.14001 , 175.14001 , 157.14001 ],\n",
              "          [175.49063 , 174.49063 , 156.49063 ]]]], dtype=float32),\n",
              " array([[1., 0.],\n",
              "        [0., 1.],\n",
              "        [0., 1.],\n",
              "        [1., 0.],\n",
              "        [0., 1.],\n",
              "        [0., 1.],\n",
              "        [0., 1.],\n",
              "        [0., 1.],\n",
              "        [0., 1.],\n",
              "        [1., 0.],\n",
              "        [1., 0.],\n",
              "        [1., 0.],\n",
              "        [0., 1.],\n",
              "        [1., 0.],\n",
              "        [1., 0.],\n",
              "        [0., 1.],\n",
              "        [1., 0.],\n",
              "        [1., 0.],\n",
              "        [0., 1.],\n",
              "        [0., 1.],\n",
              "        [1., 0.],\n",
              "        [0., 1.],\n",
              "        [0., 1.],\n",
              "        [1., 0.],\n",
              "        [1., 0.],\n",
              "        [1., 0.],\n",
              "        [1., 0.],\n",
              "        [1., 0.],\n",
              "        [0., 1.],\n",
              "        [0., 1.],\n",
              "        [1., 0.],\n",
              "        [1., 0.]], dtype=float32))"
            ]
          },
          "metadata": {},
          "execution_count": 12
        }
      ]
    },
    {
      "cell_type": "markdown",
      "source": [
        "# Preprocessing and Visualization "
      ],
      "metadata": {
        "id": "pIpbv6olGmFd"
      }
    },
    {
      "cell_type": "code",
      "source": [
        "train_datagen = tf.keras.preprocessing.image.ImageDataGenerator(rescale=1./255.)\n",
        "test_datagen = tf.keras.preprocessing.image.ImageDataGenerator(rescale=1./255.)"
      ],
      "metadata": {
        "id": "VG6Qss_FwUW2"
      },
      "execution_count": 20,
      "outputs": []
    },
    {
      "cell_type": "code",
      "source": [
        "train_path = \"/content/drive/MyDrive/dog vs cat/dataset/training_set\"\n",
        "test_path = \"/content/drive/MyDrive/dog vs cat/dataset/test_set\""
      ],
      "metadata": {
        "id": "XVk4kiERxguY"
      },
      "execution_count": 24,
      "outputs": []
    },
    {
      "cell_type": "code",
      "source": [
        "train_image = train_datagen.flow_from_directory(directory= train_path,\n",
        "                                                class_mode =\"binary\",\n",
        "                                                )"
      ],
      "metadata": {
        "id": "DuQ6AQeGxgru",
        "outputId": "190d7381-9160-497d-f5c1-9f8f3c0b9027",
        "colab": {
          "base_uri": "https://localhost:8080/"
        }
      },
      "execution_count": 25,
      "outputs": [
        {
          "output_type": "stream",
          "name": "stdout",
          "text": [
            "Found 8000 images belonging to 2 classes.\n"
          ]
        }
      ]
    },
    {
      "cell_type": "code",
      "source": [
        "test_image= test_datagen.flow_from_directory(directory=test_path, \n",
        "                                             class_mode=\"binary\", \n",
        "                                             )"
      ],
      "metadata": {
        "id": "W91Vt9m6xgpJ",
        "outputId": "c4016db3-8c9e-4149-f7a8-e3944217d8aa",
        "colab": {
          "base_uri": "https://localhost:8080/"
        }
      },
      "execution_count": 26,
      "outputs": [
        {
          "output_type": "stream",
          "name": "stdout",
          "text": [
            "Found 2000 images belonging to 2 classes.\n"
          ]
        }
      ]
    },
    {
      "cell_type": "code",
      "source": [
        "plt.figure(figsize=(30, 10))\n",
        "for image, label in data.next(1):\n",
        "  for i in range (10):\n",
        "    plt.subplot(2,5, i+1)\n",
        "    plt.imshow(image[i].numpy().astype(\"uint8\"))\n",
        "    plt.axis(\"off\")\n",
        "    plt.title(label[i].numpy())\n",
        "\n"
      ],
      "metadata": {
        "id": "M2_rl-SbGpWJ",
        "colab": {
          "base_uri": "https://localhost:8080/",
          "height": 253
        },
        "outputId": "348a6f03-41af-4270-b0ca-3e9508534f55"
      },
      "execution_count": 17,
      "outputs": [
        {
          "output_type": "error",
          "ename": "TypeError",
          "evalue": "ignored",
          "traceback": [
            "\u001b[0;31m---------------------------------------------------------------------------\u001b[0m",
            "\u001b[0;31mTypeError\u001b[0m                                 Traceback (most recent call last)",
            "\u001b[0;32m<ipython-input-17-3825af3a7dc5>\u001b[0m in \u001b[0;36m<module>\u001b[0;34m\u001b[0m\n\u001b[1;32m      1\u001b[0m \u001b[0mplt\u001b[0m\u001b[0;34m.\u001b[0m\u001b[0mfigure\u001b[0m\u001b[0;34m(\u001b[0m\u001b[0mfigsize\u001b[0m\u001b[0;34m=\u001b[0m\u001b[0;34m(\u001b[0m\u001b[0;36m30\u001b[0m\u001b[0;34m,\u001b[0m \u001b[0;36m10\u001b[0m\u001b[0;34m)\u001b[0m\u001b[0;34m)\u001b[0m\u001b[0;34m\u001b[0m\u001b[0;34m\u001b[0m\u001b[0m\n\u001b[0;32m----> 2\u001b[0;31m \u001b[0;32mfor\u001b[0m \u001b[0mimage\u001b[0m\u001b[0;34m,\u001b[0m \u001b[0mlabel\u001b[0m \u001b[0;32min\u001b[0m \u001b[0mdata\u001b[0m\u001b[0;34m.\u001b[0m\u001b[0mnext\u001b[0m\u001b[0;34m(\u001b[0m\u001b[0;36m1\u001b[0m\u001b[0;34m)\u001b[0m\u001b[0;34m:\u001b[0m\u001b[0;34m\u001b[0m\u001b[0;34m\u001b[0m\u001b[0m\n\u001b[0m\u001b[1;32m      3\u001b[0m   \u001b[0;32mfor\u001b[0m \u001b[0mi\u001b[0m \u001b[0;32min\u001b[0m \u001b[0mrange\u001b[0m \u001b[0;34m(\u001b[0m\u001b[0;36m10\u001b[0m\u001b[0;34m)\u001b[0m\u001b[0;34m:\u001b[0m\u001b[0;34m\u001b[0m\u001b[0;34m\u001b[0m\u001b[0m\n\u001b[1;32m      4\u001b[0m     \u001b[0mplt\u001b[0m\u001b[0;34m.\u001b[0m\u001b[0msubplot\u001b[0m\u001b[0;34m(\u001b[0m\u001b[0;36m2\u001b[0m\u001b[0;34m,\u001b[0m\u001b[0;36m5\u001b[0m\u001b[0;34m,\u001b[0m \u001b[0mi\u001b[0m\u001b[0;34m+\u001b[0m\u001b[0;36m1\u001b[0m\u001b[0;34m)\u001b[0m\u001b[0;34m\u001b[0m\u001b[0;34m\u001b[0m\u001b[0m\n\u001b[1;32m      5\u001b[0m     \u001b[0mplt\u001b[0m\u001b[0;34m.\u001b[0m\u001b[0mimshow\u001b[0m\u001b[0;34m(\u001b[0m\u001b[0mimage\u001b[0m\u001b[0;34m[\u001b[0m\u001b[0mi\u001b[0m\u001b[0;34m]\u001b[0m\u001b[0;34m.\u001b[0m\u001b[0mnumpy\u001b[0m\u001b[0;34m(\u001b[0m\u001b[0;34m)\u001b[0m\u001b[0;34m.\u001b[0m\u001b[0mastype\u001b[0m\u001b[0;34m(\u001b[0m\u001b[0;34m\"uint8\"\u001b[0m\u001b[0;34m)\u001b[0m\u001b[0;34m)\u001b[0m\u001b[0;34m\u001b[0m\u001b[0;34m\u001b[0m\u001b[0m\n",
            "\u001b[0;31mTypeError\u001b[0m: next() takes 1 positional argument but 2 were given"
          ]
        },
        {
          "output_type": "display_data",
          "data": {
            "text/plain": [
              "<Figure size 2160x720 with 0 Axes>"
            ]
          },
          "metadata": {}
        }
      ]
    },
    {
      "cell_type": "code",
      "source": [
        "# Having displayed the pictures I think I would have to adjust shapes of all images to standard at the top line 30"
      ],
      "metadata": {
        "id": "Dx1-90PQVO5U"
      },
      "execution_count": null,
      "outputs": []
    },
    {
      "cell_type": "code",
      "source": [],
      "metadata": {
        "id": "MomJHeW9Vwvu"
      },
      "execution_count": null,
      "outputs": []
    },
    {
      "cell_type": "markdown",
      "source": [
        "# Training model"
      ],
      "metadata": {
        "id": "g9pn6MD4GqD8"
      }
    },
    {
      "cell_type": "code",
      "source": [
        "model = tf.keras.Sequential([])\n",
        "\n",
        "model.add(tf.keras.layers.InputLayer(input_shape=(200, 200, 3)))\n",
        "model.add(tf.keras.layers.experimental.preprocessing.Rescaling(1./255.0,))\n",
        "\n",
        "model.add(tf.keras.layers.Conv2D(150, 3, padding=\"same\", activation=\"relu\"))\n",
        "model.add(tf.keras.layers.MaxPooling2D())\n",
        "model.add(tf.keras.layers.Dropout(0.2))\n",
        "model.add(tf.keras.layers.Conv2D(7,3, padding=\"same\", activation=\"relu\"))\n",
        "model.add(tf.keras.layers.MaxPooling2D())\n",
        "model.add(tf.keras.layers.Dropout(0.5))\n",
        "model.add(tf.keras.layers.Flatten())\n",
        "model.add(tf.keras.layers.Dense(50, activation=\"relu\"))\n",
        "model.add(tf.keras.layers.Dense(10, activation=\"relu\"))\n",
        "model.add(tf.keras.layers.Dense(2))"
      ],
      "metadata": {
        "id": "4WMunyDpG2EX"
      },
      "execution_count": null,
      "outputs": []
    },
    {
      "cell_type": "code",
      "source": [
        "model.compile(optimizer=tf.keras.optimizers.Adam(), \n",
        "              loss= tf.keras.losses.BinaryFocalCrossentropy(from_logits=True),\n",
        "              metrics = [\"accuracy\"])"
      ],
      "metadata": {
        "id": "QERw00jcG44_"
      },
      "execution_count": null,
      "outputs": []
    },
    {
      "cell_type": "markdown",
      "source": [],
      "metadata": {
        "id": "O8bDPIOjG5SJ"
      }
    },
    {
      "cell_type": "code",
      "source": [
        "# Partition Dataset into train, validation and test sets\n",
        "\n",
        "train_set = data.take(150)\n",
        "valid_set = data.skip(150).take(60)\n",
        "test_set = data.skip(150 + 60).take(40)"
      ],
      "metadata": {
        "id": "XoTC9Ab-BnLo"
      },
      "execution_count": null,
      "outputs": []
    },
    {
      "cell_type": "code",
      "source": [
        "history = model.fit(train_set, validation_data=valid_set, verbose=1, epochs=50)"
      ],
      "metadata": {
        "id": "xunSYs2LJnEC",
        "outputId": "8e462e90-45dc-4d83-cbe9-72f1f1534c89",
        "colab": {
          "base_uri": "https://localhost:8080/"
        }
      },
      "execution_count": null,
      "outputs": [
        {
          "output_type": "stream",
          "name": "stdout",
          "text": [
            "Epoch 1/50\n"
          ]
        }
      ]
    },
    {
      "cell_type": "code",
      "source": [],
      "metadata": {
        "id": "QGc0Qk6cJ8Y3"
      },
      "execution_count": null,
      "outputs": []
    }
  ]
}