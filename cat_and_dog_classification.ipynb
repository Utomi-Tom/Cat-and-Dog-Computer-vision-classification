{
  "nbformat": 4,
  "nbformat_minor": 0,
  "metadata": {
    "colab": {
      "provenance": [],
      "authorship_tag": "ABX9TyPMoT2h1a0S6S7aB8khM+73",
      "include_colab_link": true
    },
    "kernelspec": {
      "name": "python3",
      "display_name": "Python 3"
    },
    "language_info": {
      "name": "python"
    },
    "accelerator": "GPU",
    "gpuClass": "standard"
  },
  "cells": [
    {
      "cell_type": "markdown",
      "metadata": {
        "id": "view-in-github",
        "colab_type": "text"
      },
      "source": [
        "<a href=\"https://colab.research.google.com/github/Utomi-Tom/Cat-and-Dog-Computer-vision-classification/blob/main/cat_and_dog_classification.ipynb\" target=\"_parent\"><img src=\"https://colab.research.google.com/assets/colab-badge.svg\" alt=\"Open In Colab\"/></a>"
      ]
    },
    {
      "cell_type": "markdown",
      "source": [
        "# Project Introduciton\n",
        "\n",
        "\n",
        "\n",
        "*Problem Statement*\n",
        "\n",
        "\n",
        "\n",
        "\n",
        "\n",
        "**Aim of modelling application**\n"
      ],
      "metadata": {
        "id": "DyJsHIvmGD8o"
      }
    },
    {
      "cell_type": "markdown",
      "source": [
        "# Importation of Tools"
      ],
      "metadata": {
        "id": "WvzsoLYVGdUw"
      }
    },
    {
      "cell_type": "code",
      "source": [
        "import tensorflow as tf\n",
        "from tensorflow import keras\n",
        "from keras.layers import Conv2D\n",
        "from keras.layers.normalization import batch_normalization\n",
        "\n",
        "\n",
        "import matplotlib.pyplot as plt\n",
        "\n",
        "import warnings\n",
        "warnings.filterwarnings('ignore')"
      ],
      "metadata": {
        "id": "XFdCDRFoGgJ-"
      },
      "execution_count": 1,
      "outputs": []
    },
    {
      "cell_type": "markdown",
      "source": [
        "# Importation of Dataset and Preprocessing "
      ],
      "metadata": {
        "id": "n_UvRaegGg1y"
      }
    },
    {
      "cell_type": "code",
      "source": [
        "from google.colab import drive\n",
        "drive.mount(\"/content/drive\")"
      ],
      "metadata": {
        "id": "ymg_9y_9Gk5h",
        "colab": {
          "base_uri": "https://localhost:8080/"
        },
        "outputId": "0642def3-d83c-4ec2-9efc-fdb31799e24a"
      },
      "execution_count": 3,
      "outputs": [
        {
          "output_type": "stream",
          "name": "stdout",
          "text": [
            "Mounted at /content/drive\n"
          ]
        }
      ]
    },
    {
      "cell_type": "code",
      "source": [
        "loc = \"/content/drive/MyDrive/dog vs cat/dataset/training_set\"\n",
        "test = \"/content/drive/MyDrive/dog vs cat/dataset/test_set\""
      ],
      "metadata": {
        "id": "8dqXx2eA1-0l"
      },
      "execution_count": 7,
      "outputs": []
    },
    {
      "cell_type": "code",
      "source": [
        "train_gen = tf.keras.preprocessing.image.ImageDataGenerator(rescale=1./255, \n",
        "                                                            rotation_range= 7, \n",
        "                                                            width_shift_range= 3.0,\n",
        "                                                            horizontal_flip = True,\n",
        "                                                            shear_range = 0.2                                                      \n",
        "                                                            )\n",
        "\n",
        "test_gen = tf.keras.preprocessing.image.ImageDataGenerator(rescale=1./255)"
      ],
      "metadata": {
        "id": "ZOgDvHnrFdBz"
      },
      "execution_count": 8,
      "outputs": []
    },
    {
      "cell_type": "code",
      "source": [
        "train_data = train_gen.flow_from_directory(directory=loc,\n",
        "                                           target_size= (150, 150), \n",
        "                                           batch_size=32,\n",
        "                                           class_mode =\"binary\", \n",
        "                                           color_mode =\"rgb\",\n",
        "                                           shuffle=True, )\n"
      ],
      "metadata": {
        "id": "VX25GfKFIjgd",
        "outputId": "d7f84418-25fd-4a2c-dcda-1c8a7def2ff1",
        "colab": {
          "base_uri": "https://localhost:8080/"
        }
      },
      "execution_count": 11,
      "outputs": [
        {
          "output_type": "stream",
          "name": "stdout",
          "text": [
            "Found 8000 images belonging to 2 classes.\n"
          ]
        }
      ]
    },
    {
      "cell_type": "code",
      "source": [
        " train_data"
      ],
      "metadata": {
        "id": "HXkTAcf6iF7q"
      },
      "execution_count": null,
      "outputs": []
    },
    {
      "cell_type": "code",
      "source": [
        "test_data = test_gen.flow_from_directory(directory =test,\n",
        "                                         target_size= (150, 150),\n",
        "                                         class_mode=\"binary\",\n",
        "                                         color_mode =\"rgb\")"
      ],
      "metadata": {
        "id": "FeDSI5YqJf6F",
        "outputId": "84158d4d-f1b6-4a66-8dd4-4be9745cfa69",
        "colab": {
          "base_uri": "https://localhost:8080/"
        }
      },
      "execution_count": 10,
      "outputs": [
        {
          "output_type": "stream",
          "name": "stdout",
          "text": [
            "Found 2000 images belonging to 2 classes.\n"
          ]
        }
      ]
    },
    {
      "cell_type": "code",
      "source": [
        "class_name = train_data.classes\n",
        "class_name"
      ],
      "metadata": {
        "id": "ivZnrCgIhHrl"
      },
      "execution_count": null,
      "outputs": []
    },
    {
      "cell_type": "markdown",
      "source": [
        "# Visualization "
      ],
      "metadata": {
        "id": "pIpbv6olGmFd"
      }
    },
    {
      "cell_type": "code",
      "source": [],
      "metadata": {
        "id": "M2_rl-SbGpWJ"
      },
      "execution_count": null,
      "outputs": []
    },
    {
      "cell_type": "code",
      "source": [
        "# Having displayed the pictures I think I would have to adjust shapes of all images to standard at the top line 30"
      ],
      "metadata": {
        "id": "Dx1-90PQVO5U"
      },
      "execution_count": null,
      "outputs": []
    },
    {
      "cell_type": "code",
      "source": [],
      "metadata": {
        "id": "MomJHeW9Vwvu"
      },
      "execution_count": null,
      "outputs": []
    },
    {
      "cell_type": "markdown",
      "source": [
        "# Training model"
      ],
      "metadata": {
        "id": "g9pn6MD4GqD8"
      }
    },
    {
      "cell_type": "code",
      "source": [
        "Cat_dog = tf.keras.Sequential()\n",
        "Cat_dog.add(Conv2D(200, (3,3), input_shape=(150, 150, 3), activation =\"relu\"))\n",
        "Cat_dog.add(tf.keras.layers.BatchNormalization())\n",
        "Cat_dog.add(Conv2D(100, (2,2),activation=\"relu\" ))\n",
        "Cat_dog.add(tf.keras.layers.MaxPooling2D(pool_size= (2,2)))\n",
        "Cat_dog.add(Conv2D(50, (3,3), activation =\"relu\"))\n",
        "Cat_dog.add(tf.keras.layers.Dropout(rate=0.2))\n",
        "Cat_dog.add(Conv2D(50, (2,2), activation =\"relu\"))\n",
        "Cat_dog.add(tf.keras.layers.BatchNormalization())\n",
        "Cat_dog.add(tf.keras.layers.MaxPooling2D())\n",
        "Cat_dog.add(tf.keras.layers.Flatten())\n",
        "Cat_dog.add(tf.keras.layers.Dense(units=150, activation=\"relu\"))\n",
        "Cat_dog.add(tf.keras.layers.Dense(1, activation=\"sigmoid\"))"
      ],
      "metadata": {
        "id": "4WMunyDpG2EX"
      },
      "execution_count": 12,
      "outputs": []
    },
    {
      "cell_type": "code",
      "source": [
        "Cat_dog.compile(optimizer=\"adam\",\n",
        "                loss=\"binary_crossentropy\", \n",
        "                metrics =[\"accuracy\"])"
      ],
      "metadata": {
        "id": "QERw00jcG44_"
      },
      "execution_count": 13,
      "outputs": []
    },
    {
      "cell_type": "code",
      "source": [
        "Cat_dog.fit_generator(train_data, steps_per_epoch=100,\n",
        "                      epochs=100, validation_data= test_data,\n",
        "                      validation_steps=10, )"
      ],
      "metadata": {
        "id": "IrWni9iC6Urh",
        "outputId": "aa9030b6-229b-4fb0-cff0-92b0fafb534d",
        "colab": {
          "base_uri": "https://localhost:8080/"
        }
      },
      "execution_count": 14,
      "outputs": [
        {
          "output_type": "stream",
          "name": "stdout",
          "text": [
            "Epoch 1/100\n",
            "100/100 [==============================] - 1040s 10s/step - loss: 1.8891 - accuracy: 0.5100 - val_loss: 26.9581 - val_accuracy: 0.4781\n",
            "Epoch 2/100\n",
            "100/100 [==============================] - 657s 7s/step - loss: 0.6960 - accuracy: 0.5000 - val_loss: 25.9726 - val_accuracy: 0.5188\n",
            "Epoch 3/100\n",
            "100/100 [==============================] - 440s 4s/step - loss: 0.6932 - accuracy: 0.5103 - val_loss: 26.5467 - val_accuracy: 0.4344\n",
            "Epoch 4/100\n",
            "100/100 [==============================] - 289s 3s/step - loss: 0.6941 - accuracy: 0.4966 - val_loss: 15.3138 - val_accuracy: 0.4781\n",
            "Epoch 5/100\n",
            "100/100 [==============================] - 232s 2s/step - loss: 0.6932 - accuracy: 0.5053 - val_loss: 11.2746 - val_accuracy: 0.4656\n",
            "Epoch 6/100\n",
            "100/100 [==============================] - 155s 2s/step - loss: 0.6932 - accuracy: 0.4931 - val_loss: 10.6379 - val_accuracy: 0.4812\n",
            "Epoch 7/100\n",
            "100/100 [==============================] - 129s 1s/step - loss: 0.6932 - accuracy: 0.4925 - val_loss: 11.3992 - val_accuracy: 0.5031\n",
            "Epoch 8/100\n",
            "100/100 [==============================] - 99s 992ms/step - loss: 0.6932 - accuracy: 0.5013 - val_loss: 10.3631 - val_accuracy: 0.5625\n",
            "Epoch 9/100\n",
            "100/100 [==============================] - 87s 878ms/step - loss: 0.6930 - accuracy: 0.4984 - val_loss: 14.4094 - val_accuracy: 0.4875\n",
            "Epoch 10/100\n",
            "100/100 [==============================] - 76s 755ms/step - loss: 0.6932 - accuracy: 0.4975 - val_loss: 14.9195 - val_accuracy: 0.5031\n",
            "Epoch 11/100\n",
            "100/100 [==============================] - 71s 710ms/step - loss: 0.6929 - accuracy: 0.4966 - val_loss: 14.6032 - val_accuracy: 0.4781\n",
            "Epoch 12/100\n",
            "100/100 [==============================] - 68s 677ms/step - loss: 0.6919 - accuracy: 0.4919 - val_loss: 21.2709 - val_accuracy: 0.5344\n",
            "Epoch 13/100\n",
            "100/100 [==============================] - 53s 528ms/step - loss: 0.6889 - accuracy: 0.5003 - val_loss: 10.9269 - val_accuracy: 0.5031\n",
            "Epoch 14/100\n",
            "100/100 [==============================] - 57s 572ms/step - loss: 0.6803 - accuracy: 0.5503 - val_loss: 14.5731 - val_accuracy: 0.5375\n",
            "Epoch 15/100\n",
            "100/100 [==============================] - 51s 506ms/step - loss: 0.6619 - accuracy: 0.5959 - val_loss: 17.1428 - val_accuracy: 0.4375\n",
            "Epoch 16/100\n",
            "100/100 [==============================] - 72s 720ms/step - loss: 0.6572 - accuracy: 0.6091 - val_loss: 9.3056 - val_accuracy: 0.5188\n",
            "Epoch 17/100\n",
            "100/100 [==============================] - 43s 431ms/step - loss: 0.6578 - accuracy: 0.6059 - val_loss: 28.8338 - val_accuracy: 0.4875\n",
            "Epoch 18/100\n",
            "100/100 [==============================] - 42s 415ms/step - loss: 0.6536 - accuracy: 0.6219 - val_loss: 9.0678 - val_accuracy: 0.5531\n",
            "Epoch 19/100\n",
            "100/100 [==============================] - 45s 447ms/step - loss: 0.6457 - accuracy: 0.6269 - val_loss: 37.1315 - val_accuracy: 0.5125\n",
            "Epoch 20/100\n",
            "100/100 [==============================] - 45s 443ms/step - loss: 0.6422 - accuracy: 0.6369 - val_loss: 18.3610 - val_accuracy: 0.4938\n",
            "Epoch 21/100\n",
            "100/100 [==============================] - 41s 413ms/step - loss: 0.6173 - accuracy: 0.6659 - val_loss: 20.2910 - val_accuracy: 0.5094\n",
            "Epoch 22/100\n",
            "100/100 [==============================] - 42s 417ms/step - loss: 0.6113 - accuracy: 0.6659 - val_loss: 8.9590 - val_accuracy: 0.5688\n",
            "Epoch 23/100\n",
            "100/100 [==============================] - 40s 397ms/step - loss: 0.6027 - accuracy: 0.6812 - val_loss: 10.9607 - val_accuracy: 0.5250\n",
            "Epoch 24/100\n",
            "100/100 [==============================] - 40s 394ms/step - loss: 0.5845 - accuracy: 0.7000 - val_loss: 8.4931 - val_accuracy: 0.5469\n",
            "Epoch 25/100\n",
            "100/100 [==============================] - 39s 391ms/step - loss: 0.5688 - accuracy: 0.7228 - val_loss: 8.0451 - val_accuracy: 0.5938\n",
            "Epoch 26/100\n",
            "100/100 [==============================] - 40s 401ms/step - loss: 0.5580 - accuracy: 0.7141 - val_loss: 3.0359 - val_accuracy: 0.5500\n",
            "Epoch 27/100\n",
            "100/100 [==============================] - 39s 384ms/step - loss: 0.5413 - accuracy: 0.7269 - val_loss: 12.4028 - val_accuracy: 0.5219\n",
            "Epoch 28/100\n",
            "100/100 [==============================] - 41s 405ms/step - loss: 0.5129 - accuracy: 0.7456 - val_loss: 1.2347 - val_accuracy: 0.6750\n",
            "Epoch 29/100\n",
            "100/100 [==============================] - 40s 396ms/step - loss: 0.5153 - accuracy: 0.7487 - val_loss: 17.8370 - val_accuracy: 0.4906\n",
            "Epoch 30/100\n",
            "100/100 [==============================] - 38s 379ms/step - loss: 0.5472 - accuracy: 0.7328 - val_loss: 7.0722 - val_accuracy: 0.5312\n",
            "Epoch 31/100\n",
            "100/100 [==============================] - 37s 369ms/step - loss: 0.4925 - accuracy: 0.7575 - val_loss: 4.6124 - val_accuracy: 0.5688\n",
            "Epoch 32/100\n",
            "100/100 [==============================] - 38s 380ms/step - loss: 0.4786 - accuracy: 0.7638 - val_loss: 1.9659 - val_accuracy: 0.6406\n",
            "Epoch 33/100\n",
            "100/100 [==============================] - 39s 389ms/step - loss: 0.4692 - accuracy: 0.7691 - val_loss: 1.0559 - val_accuracy: 0.6406\n",
            "Epoch 34/100\n",
            "100/100 [==============================] - 39s 384ms/step - loss: 0.4751 - accuracy: 0.7669 - val_loss: 1.0563 - val_accuracy: 0.7125\n",
            "Epoch 35/100\n",
            "100/100 [==============================] - 38s 374ms/step - loss: 0.4442 - accuracy: 0.7894 - val_loss: 1.3057 - val_accuracy: 0.6094\n",
            "Epoch 36/100\n",
            "100/100 [==============================] - 39s 392ms/step - loss: 0.4499 - accuracy: 0.7859 - val_loss: 0.5750 - val_accuracy: 0.7406\n",
            "Epoch 37/100\n",
            "100/100 [==============================] - 38s 381ms/step - loss: 0.4365 - accuracy: 0.7956 - val_loss: 0.7556 - val_accuracy: 0.6719\n",
            "Epoch 38/100\n",
            "100/100 [==============================] - 38s 380ms/step - loss: 0.4237 - accuracy: 0.8019 - val_loss: 0.6274 - val_accuracy: 0.7281\n",
            "Epoch 39/100\n",
            "100/100 [==============================] - 38s 379ms/step - loss: 0.4135 - accuracy: 0.8084 - val_loss: 3.1345 - val_accuracy: 0.6969\n",
            "Epoch 40/100\n",
            "100/100 [==============================] - 38s 377ms/step - loss: 0.4327 - accuracy: 0.7859 - val_loss: 0.7831 - val_accuracy: 0.7031\n",
            "Epoch 41/100\n",
            "100/100 [==============================] - 37s 369ms/step - loss: 0.4181 - accuracy: 0.8141 - val_loss: 9.5165 - val_accuracy: 0.5063\n",
            "Epoch 42/100\n",
            "100/100 [==============================] - 38s 381ms/step - loss: 0.3979 - accuracy: 0.8138 - val_loss: 0.8652 - val_accuracy: 0.7563\n",
            "Epoch 43/100\n",
            "100/100 [==============================] - 38s 382ms/step - loss: 0.3901 - accuracy: 0.8197 - val_loss: 0.7930 - val_accuracy: 0.6125\n",
            "Epoch 44/100\n",
            "100/100 [==============================] - 40s 395ms/step - loss: 0.4104 - accuracy: 0.7953 - val_loss: 0.9276 - val_accuracy: 0.7188\n",
            "Epoch 45/100\n",
            "100/100 [==============================] - 38s 377ms/step - loss: 0.3824 - accuracy: 0.8219 - val_loss: 0.8380 - val_accuracy: 0.7344\n",
            "Epoch 46/100\n",
            "100/100 [==============================] - 38s 373ms/step - loss: 0.3955 - accuracy: 0.8144 - val_loss: 0.8643 - val_accuracy: 0.7125\n",
            "Epoch 47/100\n",
            "100/100 [==============================] - 37s 369ms/step - loss: 0.3719 - accuracy: 0.8266 - val_loss: 0.5425 - val_accuracy: 0.7312\n",
            "Epoch 48/100\n",
            "100/100 [==============================] - 37s 367ms/step - loss: 0.3678 - accuracy: 0.8328 - val_loss: 0.6767 - val_accuracy: 0.6969\n",
            "Epoch 49/100\n",
            "100/100 [==============================] - 38s 377ms/step - loss: 0.3710 - accuracy: 0.8325 - val_loss: 0.5004 - val_accuracy: 0.7719\n",
            "Epoch 50/100\n",
            "100/100 [==============================] - 37s 371ms/step - loss: 0.3518 - accuracy: 0.8344 - val_loss: 0.4045 - val_accuracy: 0.7906\n",
            "Epoch 51/100\n",
            "100/100 [==============================] - 38s 373ms/step - loss: 0.3703 - accuracy: 0.8288 - val_loss: 0.5404 - val_accuracy: 0.7875\n",
            "Epoch 52/100\n",
            "100/100 [==============================] - 39s 382ms/step - loss: 0.3597 - accuracy: 0.8366 - val_loss: 0.5354 - val_accuracy: 0.7688\n",
            "Epoch 53/100\n",
            "100/100 [==============================] - 38s 379ms/step - loss: 0.3562 - accuracy: 0.8384 - val_loss: 0.5092 - val_accuracy: 0.7656\n",
            "Epoch 54/100\n",
            "100/100 [==============================] - 38s 383ms/step - loss: 0.3395 - accuracy: 0.8528 - val_loss: 0.5606 - val_accuracy: 0.7469\n",
            "Epoch 55/100\n",
            "100/100 [==============================] - 38s 380ms/step - loss: 0.3539 - accuracy: 0.8384 - val_loss: 0.5839 - val_accuracy: 0.7750\n",
            "Epoch 56/100\n",
            "100/100 [==============================] - 38s 374ms/step - loss: 0.3295 - accuracy: 0.8528 - val_loss: 0.4045 - val_accuracy: 0.8156\n",
            "Epoch 57/100\n",
            "100/100 [==============================] - 38s 377ms/step - loss: 0.3420 - accuracy: 0.8456 - val_loss: 0.5081 - val_accuracy: 0.7781\n",
            "Epoch 58/100\n",
            "100/100 [==============================] - 37s 371ms/step - loss: 0.3300 - accuracy: 0.8450 - val_loss: 0.4135 - val_accuracy: 0.8250\n",
            "Epoch 59/100\n",
            "100/100 [==============================] - 38s 382ms/step - loss: 0.3403 - accuracy: 0.8491 - val_loss: 0.7402 - val_accuracy: 0.7250\n",
            "Epoch 60/100\n",
            "100/100 [==============================] - 39s 389ms/step - loss: 0.3186 - accuracy: 0.8612 - val_loss: 0.6120 - val_accuracy: 0.7375\n",
            "Epoch 61/100\n",
            "100/100 [==============================] - 38s 379ms/step - loss: 0.3043 - accuracy: 0.8697 - val_loss: 0.5098 - val_accuracy: 0.7469\n",
            "Epoch 62/100\n",
            "100/100 [==============================] - 38s 379ms/step - loss: 0.3104 - accuracy: 0.8650 - val_loss: 0.4593 - val_accuracy: 0.8125\n",
            "Epoch 63/100\n",
            "100/100 [==============================] - 38s 376ms/step - loss: 0.3105 - accuracy: 0.8612 - val_loss: 0.5817 - val_accuracy: 0.7750\n",
            "Epoch 64/100\n",
            "100/100 [==============================] - 37s 373ms/step - loss: 0.3005 - accuracy: 0.8650 - val_loss: 0.5657 - val_accuracy: 0.8188\n",
            "Epoch 65/100\n",
            "100/100 [==============================] - 40s 399ms/step - loss: 0.3027 - accuracy: 0.8603 - val_loss: 0.5311 - val_accuracy: 0.7594\n",
            "Epoch 66/100\n",
            "100/100 [==============================] - 39s 389ms/step - loss: 0.2863 - accuracy: 0.8703 - val_loss: 0.4420 - val_accuracy: 0.8188\n",
            "Epoch 67/100\n",
            "100/100 [==============================] - 39s 387ms/step - loss: 0.3040 - accuracy: 0.8631 - val_loss: 0.5653 - val_accuracy: 0.7812\n",
            "Epoch 68/100\n",
            "100/100 [==============================] - 41s 407ms/step - loss: 0.2935 - accuracy: 0.8753 - val_loss: 0.4937 - val_accuracy: 0.7937\n",
            "Epoch 69/100\n",
            "100/100 [==============================] - 40s 393ms/step - loss: 0.2847 - accuracy: 0.8747 - val_loss: 0.5019 - val_accuracy: 0.8000\n",
            "Epoch 70/100\n",
            "100/100 [==============================] - 40s 394ms/step - loss: 0.2692 - accuracy: 0.8838 - val_loss: 0.4155 - val_accuracy: 0.8438\n",
            "Epoch 71/100\n",
            "100/100 [==============================] - 40s 394ms/step - loss: 0.2538 - accuracy: 0.8900 - val_loss: 0.5882 - val_accuracy: 0.7969\n",
            "Epoch 72/100\n",
            "100/100 [==============================] - 40s 394ms/step - loss: 0.2598 - accuracy: 0.8863 - val_loss: 0.4620 - val_accuracy: 0.8094\n",
            "Epoch 73/100\n",
            "100/100 [==============================] - 40s 397ms/step - loss: 0.2699 - accuracy: 0.8838 - val_loss: 0.4453 - val_accuracy: 0.8156\n",
            "Epoch 74/100\n",
            "100/100 [==============================] - 39s 392ms/step - loss: 0.2617 - accuracy: 0.8863 - val_loss: 0.4417 - val_accuracy: 0.8219\n",
            "Epoch 75/100\n",
            "100/100 [==============================] - 40s 400ms/step - loss: 0.2926 - accuracy: 0.8697 - val_loss: 0.5371 - val_accuracy: 0.7750\n",
            "Epoch 76/100\n",
            "100/100 [==============================] - 39s 391ms/step - loss: 0.2811 - accuracy: 0.8831 - val_loss: 0.5432 - val_accuracy: 0.7406\n",
            "Epoch 77/100\n",
            "100/100 [==============================] - 40s 398ms/step - loss: 0.2558 - accuracy: 0.8931 - val_loss: 0.5062 - val_accuracy: 0.8094\n",
            "Epoch 78/100\n",
            "100/100 [==============================] - 40s 399ms/step - loss: 0.2581 - accuracy: 0.8956 - val_loss: 0.4854 - val_accuracy: 0.8094\n",
            "Epoch 79/100\n",
            "100/100 [==============================] - 40s 400ms/step - loss: 0.2576 - accuracy: 0.8866 - val_loss: 0.4399 - val_accuracy: 0.8313\n",
            "Epoch 80/100\n",
            "100/100 [==============================] - 40s 394ms/step - loss: 0.2609 - accuracy: 0.8925 - val_loss: 0.5852 - val_accuracy: 0.7812\n",
            "Epoch 81/100\n",
            "100/100 [==============================] - 40s 400ms/step - loss: 0.2438 - accuracy: 0.8944 - val_loss: 0.5505 - val_accuracy: 0.7656\n",
            "Epoch 82/100\n",
            "100/100 [==============================] - 41s 403ms/step - loss: 0.2511 - accuracy: 0.8913 - val_loss: 0.4556 - val_accuracy: 0.8188\n",
            "Epoch 83/100\n",
            "100/100 [==============================] - 39s 392ms/step - loss: 0.2409 - accuracy: 0.8947 - val_loss: 0.4333 - val_accuracy: 0.8250\n",
            "Epoch 84/100\n",
            "100/100 [==============================] - 40s 398ms/step - loss: 0.2297 - accuracy: 0.9041 - val_loss: 0.3724 - val_accuracy: 0.8313\n",
            "Epoch 85/100\n",
            "100/100 [==============================] - 40s 394ms/step - loss: 0.2303 - accuracy: 0.9016 - val_loss: 0.4386 - val_accuracy: 0.8156\n",
            "Epoch 86/100\n",
            "100/100 [==============================] - 39s 385ms/step - loss: 0.2216 - accuracy: 0.9103 - val_loss: 0.4666 - val_accuracy: 0.8438\n",
            "Epoch 87/100\n",
            "100/100 [==============================] - 39s 385ms/step - loss: 0.2271 - accuracy: 0.9031 - val_loss: 0.4111 - val_accuracy: 0.8062\n",
            "Epoch 88/100\n",
            "100/100 [==============================] - 39s 393ms/step - loss: 0.2185 - accuracy: 0.9047 - val_loss: 0.4947 - val_accuracy: 0.7750\n",
            "Epoch 89/100\n",
            "100/100 [==============================] - 40s 398ms/step - loss: 0.2168 - accuracy: 0.9097 - val_loss: 0.5255 - val_accuracy: 0.8094\n",
            "Epoch 90/100\n",
            "100/100 [==============================] - 39s 382ms/step - loss: 0.2066 - accuracy: 0.9147 - val_loss: 0.4659 - val_accuracy: 0.7937\n",
            "Epoch 91/100\n",
            "100/100 [==============================] - 38s 377ms/step - loss: 0.2054 - accuracy: 0.9172 - val_loss: 0.7123 - val_accuracy: 0.7531\n",
            "Epoch 92/100\n",
            "100/100 [==============================] - 39s 385ms/step - loss: 0.2063 - accuracy: 0.9159 - val_loss: 0.4829 - val_accuracy: 0.7906\n",
            "Epoch 93/100\n",
            "100/100 [==============================] - 39s 388ms/step - loss: 0.2254 - accuracy: 0.9025 - val_loss: 0.5427 - val_accuracy: 0.7656\n",
            "Epoch 94/100\n",
            "100/100 [==============================] - 38s 380ms/step - loss: 0.1875 - accuracy: 0.9219 - val_loss: 0.5904 - val_accuracy: 0.7719\n",
            "Epoch 95/100\n",
            "100/100 [==============================] - 38s 377ms/step - loss: 0.1855 - accuracy: 0.9184 - val_loss: 0.4503 - val_accuracy: 0.8156\n",
            "Epoch 96/100\n",
            "100/100 [==============================] - 39s 384ms/step - loss: 0.2101 - accuracy: 0.9131 - val_loss: 0.5518 - val_accuracy: 0.8000\n",
            "Epoch 97/100\n",
            "100/100 [==============================] - 38s 380ms/step - loss: 0.1961 - accuracy: 0.9203 - val_loss: 0.4022 - val_accuracy: 0.8406\n",
            "Epoch 98/100\n",
            "100/100 [==============================] - 39s 389ms/step - loss: 0.1976 - accuracy: 0.9178 - val_loss: 0.3413 - val_accuracy: 0.8500\n",
            "Epoch 99/100\n",
            "100/100 [==============================] - 39s 387ms/step - loss: 0.1868 - accuracy: 0.9256 - val_loss: 0.5373 - val_accuracy: 0.7937\n",
            "Epoch 100/100\n",
            "100/100 [==============================] - 39s 388ms/step - loss: 0.1828 - accuracy: 0.9231 - val_loss: 0.6961 - val_accuracy: 0.8188\n"
          ]
        },
        {
          "output_type": "execute_result",
          "data": {
            "text/plain": [
              "<keras.callbacks.History at 0x7f5bb8cb20a0>"
            ]
          },
          "metadata": {},
          "execution_count": 14
        }
      ]
    },
    {
      "cell_type": "code",
      "source": [
        "Cat_dog.save(\"/content/drive/MyDrive/Dog_Breed_Project/Models/Cat_dog_model.h5\")"
      ],
      "metadata": {
        "id": "dsz2CPDtU5gV"
      },
      "execution_count": 15,
      "outputs": []
    },
    {
      "cell_type": "code",
      "source": [
        "model=\"/content/drive/MyDrive/Dog_Breed_Project/Models/Cat_dog_model.h5\"\n",
        "Cat_dog_66=tf.keras.models.load_model(model)"
      ],
      "metadata": {
        "id": "LabnNuNtG1YR"
      },
      "execution_count": 16,
      "outputs": []
    },
    {
      "cell_type": "code",
      "source": [
        "Cat_dog_66.evaluate(test_data, verbose=1)"
      ],
      "metadata": {
        "id": "qmK3JJvyHNCe",
        "outputId": "dd5c791a-7c5b-4e9a-ec41-bc05eca66bb4",
        "colab": {
          "base_uri": "https://localhost:8080/"
        }
      },
      "execution_count": 19,
      "outputs": [
        {
          "output_type": "stream",
          "name": "stdout",
          "text": [
            "63/63 [==============================] - 8s 133ms/step - loss: 0.7632 - accuracy: 0.8100\n"
          ]
        },
        {
          "output_type": "execute_result",
          "data": {
            "text/plain": [
              "[0.7632279396057129, 0.8100000023841858]"
            ]
          },
          "metadata": {},
          "execution_count": 19
        }
      ]
    },
    {
      "cell_type": "markdown",
      "source": [],
      "metadata": {
        "id": "O8bDPIOjG5SJ"
      }
    }
  ]
}